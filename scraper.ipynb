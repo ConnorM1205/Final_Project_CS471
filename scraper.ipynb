{
 "cells": [
  {
   "cell_type": "code",
   "execution_count": null,
   "metadata": {},
   "outputs": [],
   "source": [
    "import pandas as pd\n",
    "import time\n",
    "from bs4 import BeautifulSoup\n",
    "from io import StringIO\n",
    "from selenium import webdriver\n",
    "from selenium.webdriver.chrome.service import Service\n",
    "from selenium.webdriver.common.by import By\n",
    "from selenium.webdriver.support.ui import WebDriverWait\n",
    "from selenium.webdriver.support import expected_conditions as EC\n",
    "\n",
    "years= list(range(2022,2025))\n",
    "url_start='https://www.basketball-reference.com/awards/awards_{}.html'"
   ]
  },
  {
   "cell_type": "code",
   "execution_count": null,
   "metadata": {},
   "outputs": [],
   "source": [
    "for year in years:\n",
    "    url=url_start.format(year)\n",
    "    data=requests.get(url)\n",
    "    \n",
    "    with open(\"mvp/{}.html\".format(year), \"w+\",encoding='utf-8') as f:\n",
    "        f.write(data.text)"
   ]
  },
  {
   "cell_type": "code",
   "execution_count": null,
   "metadata": {},
   "outputs": [],
   "source": [
    "with open(\"mvp/1991.html\", encoding='utf-8') as f:\n",
    "    page=f.read()"
   ]
  },
  {
   "cell_type": "code",
   "execution_count": null,
   "metadata": {},
   "outputs": [],
   "source": [
    "soup=BeautifulSoup(page,'html.parser')"
   ]
  },
  {
   "cell_type": "code",
   "execution_count": null,
   "metadata": {},
   "outputs": [],
   "source": [
    "soup.find('tr', class_=\"over_header\").decompose()"
   ]
  },
  {
   "cell_type": "code",
   "execution_count": null,
   "metadata": {},
   "outputs": [],
   "source": [
    "mvp_table=soup.find(id='mvp')"
   ]
  },
  {
   "cell_type": "code",
   "execution_count": null,
   "metadata": {},
   "outputs": [],
   "source": [
    "mvp_1991=pd.read_html(StringIO(str(mvp_table)))[0]"
   ]
  },
  {
   "cell_type": "code",
   "execution_count": null,
   "metadata": {},
   "outputs": [],
   "source": [
    "dfs=[]\n",
    "for year in years:\n",
    "    with open(\"mvp/{}.html\".format(year),encoding=\"utf-8\") as f:\n",
    "        page=f.read()\n",
    "    soup=BeautifulSoup(page,'html.parser')\n",
    "    soup.find('tr', class_=\"over_header\").decompose()\n",
    "    mvp_table=soup.find(id='mvp')\n",
    "    mvp=pd.read_html(StringIO(str(mvp_table)))[0]\n",
    "    mvp[\"Year\"]=year\n",
    "    dfs.append(mvp)\n"
   ]
  },
  {
   "cell_type": "code",
   "execution_count": null,
   "metadata": {},
   "outputs": [],
   "source": [
    "mvps=pd.concat(dfs)"
   ]
  },
  {
   "cell_type": "code",
   "execution_count": null,
   "metadata": {},
   "outputs": [],
   "source": [
    "mvps.to_csv(\"mvps.csv\")"
   ]
  },
  {
   "cell_type": "code",
   "execution_count": null,
   "metadata": {},
   "outputs": [],
   "source": [
    "player_stats_url=\"https://www.basketball-reference.com/leagues/NBA_{}_per_game.html\"\n",
    "url=player_stats_url.format(1991)\n",
    "data=requests.get(url)\n",
    "with open(\"player/1991.html\",\"w+\",encoding='utf-8') as f:\n",
    "    f.write(data.text)"
   ]
  },
  {
   "cell_type": "code",
   "execution_count": null,
   "metadata": {},
   "outputs": [],
   "source": [
    "# Assuming you have defined player_stats_url and year earlier\n",
    "driver = webdriver.Chrome()\n",
    "year=1991\n",
    "url = player_stats_url.format(year)\n",
    "driver.get(url)\n",
    "\n",
    "# Use WebDriverWait to wait for the presence of an element before scrolling\n",
    "wait = WebDriverWait(driver, 10)  # Maximum wait time of 10 seconds\n",
    "element_to_wait_for = wait.until(EC.presence_of_element_located((By.ID, \"some_element_id\")))\n",
    "\n",
    "# Scroll to the bottom of the page\n",
    "#driver.execute_script(\"arguments[0].scrollIntoView();\", element_to_wait_for)\n",
    "\n",
    "# If the above doesn't work, try using window.scrollTo directly\n",
    "driver.execute_script(\"window.scrollTo(1, 10000)\")\n",
    "\n",
    "# Give some time for the scrolling to take effect\n",
    "time.sleep(2)\n",
    "\n",
    "# Continue with the rest of your code\n",
    "html = driver.page_source\n",
    "with open(\"player/{}.html\".format(year),\"w+\", encoding='utf-8') as f:\n",
    "    f.write(html)"
   ]
  },
  {
   "cell_type": "code",
   "execution_count": null,
   "metadata": {},
   "outputs": [],
   "source": [
    "team_stats_url=\"https://www.basketball-reference.com/leagues/NBA_{}_standings.html\""
   ]
  },
  {
   "cell_type": "code",
   "execution_count": null,
   "metadata": {},
   "outputs": [],
   "source": [
    "for year in years:\n",
    "    url=team_stats_url.format(year)\n",
    "    data=requests.get(url)\n",
    "    with open(\"team/{}.html\".format(year), \"w+\",encoding=\"utf-8\") as f:\n",
    "        f.write(data.text)"
   ]
  },
  {
   "cell_type": "code",
   "execution_count": null,
   "metadata": {},
   "outputs": [],
   "source": [
    "dfs=[]\n",
    "for year in years:\n",
    "    with open(\"team/{}.html\".format(year),encoding='utf-8') as f:\n",
    "        page=f.read()\n",
    "    \n",
    "    soup=BeautifulSoup(page,\"html.parser\")\n",
    "    soup.find(\"tr\", class_=\"thead\").decompose()\n",
    "    team_table=soup.find(id=\"divs_standings_E\")\n",
    "    team=pd.read_html(StringIO(str(team_table)))[0]\n",
    "    team[\"Year\"]=year\n",
    "    team[\"Team\"]=team[\"Eastern Conference\"]\n",
    "    del team['Eastern Conference']\n",
    "    dfs.append(team)\n",
    "    \n",
    "    soup=BeautifulSoup(page,\"html.parser\")\n",
    "    soup.find(\"tr\", class_=\"thead\").decompose()\n",
    "    team_table=soup.find(id=\"divs_standings_W\")\n",
    "    team=pd.read_html(StringIO(str(team_table)))[0]\n",
    "    team[\"Year\"]=year\n",
    "    team[\"Team\"]=team[\"Western Conference\"]\n",
    "    del team['Western Conference']\n",
    "    dfs.append(team)"
   ]
  },
  {
   "cell_type": "code",
   "execution_count": null,
   "metadata": {},
   "outputs": [],
   "source": [
    "teams=pd.concat(dfs)"
   ]
  },
  {
   "cell_type": "code",
   "execution_count": null,
   "metadata": {},
   "outputs": [],
   "source": [
    "teams"
   ]
  },
  {
   "cell_type": "code",
   "execution_count": null,
   "metadata": {},
   "outputs": [],
   "source": [
    "teams.to_csv(\"teams.csv\")"
   ]
  }
 ],
 "metadata": {
  "kernelspec": {
   "display_name": ".venv",
   "language": "python",
   "name": "python3"
  },
  "language_info": {
   "codemirror_mode": {
    "name": "ipython",
    "version": 3
   },
   "file_extension": ".py",
   "mimetype": "text/x-python",
   "name": "python",
   "nbconvert_exporter": "python",
   "pygments_lexer": "ipython3",
   "version": "3.12.5"
  }
 },
 "nbformat": 4,
 "nbformat_minor": 4
}
