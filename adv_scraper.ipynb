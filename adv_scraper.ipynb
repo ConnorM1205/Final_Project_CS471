{
 "cells": [
  {
   "cell_type": "code",
   "execution_count": 2,
   "metadata": {},
   "outputs": [],
   "source": [
    "import pandas as pd\n",
    "from bs4 import BeautifulSoup"
   ]
  },
  {
   "cell_type": "code",
   "execution_count": 1,
   "metadata": {},
   "outputs": [],
   "source": [
    "years=list(range(1991,2022))"
   ]
  },
  {
   "cell_type": "code",
   "execution_count": 3,
   "metadata": {},
   "outputs": [],
   "source": [
    "adv_player_stats_url=\"https://www.basketball-reference.com/leagues/NBA_{}_advanced.html\""
   ]
  },
  {
   "cell_type": "code",
   "execution_count": 4,
   "metadata": {},
   "outputs": [],
   "source": [
    "from selenium import webdriver"
   ]
  },
  {
   "cell_type": "code",
   "execution_count": 5,
   "metadata": {},
   "outputs": [],
   "source": [
    "driver = webdriver.Chrome()"
   ]
  },
  {
   "cell_type": "code",
   "execution_count": 5,
   "metadata": {},
   "outputs": [],
   "source": [
    "import time\n",
    "\n",
    "for year in years:\n",
    "    url = adv_player_stats_url.format(year)\n",
    "\n",
    "    driver.get(url)\n",
    "    driver.execute_script(\"window.scrollTo(1,10000)\")\n",
    "    time.sleep(2)\n",
    "\n",
    "    html = driver.page_source\n",
    "    with open(\"C:/Users/zac15/OneDrive/Desktop/CSUSM/Final_Project_CS471/player/{}.html\".format(year),\"w+\", encoding='utf-8') as f:\n",
    "        f.write(html)"
   ]
  },
  {
   "cell_type": "code",
   "execution_count": 11,
   "metadata": {},
   "outputs": [
    {
     "name": "stderr",
     "output_type": "stream",
     "text": [
      "C:\\Users\\zac15\\AppData\\Local\\Temp\\ipykernel_28176\\785566343.py:9: FutureWarning: Passing literal html to 'read_html' is deprecated and will be removed in a future version. To read from a literal string, wrap it in a 'StringIO' object.\n",
      "  player=pd.read_html(str(player_table))[0]\n",
      "C:\\Users\\zac15\\AppData\\Local\\Temp\\ipykernel_28176\\785566343.py:9: FutureWarning: Passing literal html to 'read_html' is deprecated and will be removed in a future version. To read from a literal string, wrap it in a 'StringIO' object.\n",
      "  player=pd.read_html(str(player_table))[0]\n",
      "C:\\Users\\zac15\\AppData\\Local\\Temp\\ipykernel_28176\\785566343.py:9: FutureWarning: Passing literal html to 'read_html' is deprecated and will be removed in a future version. To read from a literal string, wrap it in a 'StringIO' object.\n",
      "  player=pd.read_html(str(player_table))[0]\n",
      "C:\\Users\\zac15\\AppData\\Local\\Temp\\ipykernel_28176\\785566343.py:9: FutureWarning: Passing literal html to 'read_html' is deprecated and will be removed in a future version. To read from a literal string, wrap it in a 'StringIO' object.\n",
      "  player=pd.read_html(str(player_table))[0]\n",
      "C:\\Users\\zac15\\AppData\\Local\\Temp\\ipykernel_28176\\785566343.py:9: FutureWarning: Passing literal html to 'read_html' is deprecated and will be removed in a future version. To read from a literal string, wrap it in a 'StringIO' object.\n",
      "  player=pd.read_html(str(player_table))[0]\n",
      "C:\\Users\\zac15\\AppData\\Local\\Temp\\ipykernel_28176\\785566343.py:9: FutureWarning: Passing literal html to 'read_html' is deprecated and will be removed in a future version. To read from a literal string, wrap it in a 'StringIO' object.\n",
      "  player=pd.read_html(str(player_table))[0]\n",
      "C:\\Users\\zac15\\AppData\\Local\\Temp\\ipykernel_28176\\785566343.py:9: FutureWarning: Passing literal html to 'read_html' is deprecated and will be removed in a future version. To read from a literal string, wrap it in a 'StringIO' object.\n",
      "  player=pd.read_html(str(player_table))[0]\n",
      "C:\\Users\\zac15\\AppData\\Local\\Temp\\ipykernel_28176\\785566343.py:9: FutureWarning: Passing literal html to 'read_html' is deprecated and will be removed in a future version. To read from a literal string, wrap it in a 'StringIO' object.\n",
      "  player=pd.read_html(str(player_table))[0]\n",
      "C:\\Users\\zac15\\AppData\\Local\\Temp\\ipykernel_28176\\785566343.py:9: FutureWarning: Passing literal html to 'read_html' is deprecated and will be removed in a future version. To read from a literal string, wrap it in a 'StringIO' object.\n",
      "  player=pd.read_html(str(player_table))[0]\n",
      "C:\\Users\\zac15\\AppData\\Local\\Temp\\ipykernel_28176\\785566343.py:9: FutureWarning: Passing literal html to 'read_html' is deprecated and will be removed in a future version. To read from a literal string, wrap it in a 'StringIO' object.\n",
      "  player=pd.read_html(str(player_table))[0]\n",
      "C:\\Users\\zac15\\AppData\\Local\\Temp\\ipykernel_28176\\785566343.py:9: FutureWarning: Passing literal html to 'read_html' is deprecated and will be removed in a future version. To read from a literal string, wrap it in a 'StringIO' object.\n",
      "  player=pd.read_html(str(player_table))[0]\n",
      "C:\\Users\\zac15\\AppData\\Local\\Temp\\ipykernel_28176\\785566343.py:9: FutureWarning: Passing literal html to 'read_html' is deprecated and will be removed in a future version. To read from a literal string, wrap it in a 'StringIO' object.\n",
      "  player=pd.read_html(str(player_table))[0]\n",
      "C:\\Users\\zac15\\AppData\\Local\\Temp\\ipykernel_28176\\785566343.py:9: FutureWarning: Passing literal html to 'read_html' is deprecated and will be removed in a future version. To read from a literal string, wrap it in a 'StringIO' object.\n",
      "  player=pd.read_html(str(player_table))[0]\n",
      "C:\\Users\\zac15\\AppData\\Local\\Temp\\ipykernel_28176\\785566343.py:9: FutureWarning: Passing literal html to 'read_html' is deprecated and will be removed in a future version. To read from a literal string, wrap it in a 'StringIO' object.\n",
      "  player=pd.read_html(str(player_table))[0]\n",
      "C:\\Users\\zac15\\AppData\\Local\\Temp\\ipykernel_28176\\785566343.py:9: FutureWarning: Passing literal html to 'read_html' is deprecated and will be removed in a future version. To read from a literal string, wrap it in a 'StringIO' object.\n",
      "  player=pd.read_html(str(player_table))[0]\n",
      "C:\\Users\\zac15\\AppData\\Local\\Temp\\ipykernel_28176\\785566343.py:9: FutureWarning: Passing literal html to 'read_html' is deprecated and will be removed in a future version. To read from a literal string, wrap it in a 'StringIO' object.\n",
      "  player=pd.read_html(str(player_table))[0]\n",
      "C:\\Users\\zac15\\AppData\\Local\\Temp\\ipykernel_28176\\785566343.py:9: FutureWarning: Passing literal html to 'read_html' is deprecated and will be removed in a future version. To read from a literal string, wrap it in a 'StringIO' object.\n",
      "  player=pd.read_html(str(player_table))[0]\n",
      "C:\\Users\\zac15\\AppData\\Local\\Temp\\ipykernel_28176\\785566343.py:9: FutureWarning: Passing literal html to 'read_html' is deprecated and will be removed in a future version. To read from a literal string, wrap it in a 'StringIO' object.\n",
      "  player=pd.read_html(str(player_table))[0]\n",
      "C:\\Users\\zac15\\AppData\\Local\\Temp\\ipykernel_28176\\785566343.py:9: FutureWarning: Passing literal html to 'read_html' is deprecated and will be removed in a future version. To read from a literal string, wrap it in a 'StringIO' object.\n",
      "  player=pd.read_html(str(player_table))[0]\n",
      "C:\\Users\\zac15\\AppData\\Local\\Temp\\ipykernel_28176\\785566343.py:9: FutureWarning: Passing literal html to 'read_html' is deprecated and will be removed in a future version. To read from a literal string, wrap it in a 'StringIO' object.\n",
      "  player=pd.read_html(str(player_table))[0]\n",
      "C:\\Users\\zac15\\AppData\\Local\\Temp\\ipykernel_28176\\785566343.py:9: FutureWarning: Passing literal html to 'read_html' is deprecated and will be removed in a future version. To read from a literal string, wrap it in a 'StringIO' object.\n",
      "  player=pd.read_html(str(player_table))[0]\n",
      "C:\\Users\\zac15\\AppData\\Local\\Temp\\ipykernel_28176\\785566343.py:9: FutureWarning: Passing literal html to 'read_html' is deprecated and will be removed in a future version. To read from a literal string, wrap it in a 'StringIO' object.\n",
      "  player=pd.read_html(str(player_table))[0]\n",
      "C:\\Users\\zac15\\AppData\\Local\\Temp\\ipykernel_28176\\785566343.py:9: FutureWarning: Passing literal html to 'read_html' is deprecated and will be removed in a future version. To read from a literal string, wrap it in a 'StringIO' object.\n",
      "  player=pd.read_html(str(player_table))[0]\n",
      "C:\\Users\\zac15\\AppData\\Local\\Temp\\ipykernel_28176\\785566343.py:9: FutureWarning: Passing literal html to 'read_html' is deprecated and will be removed in a future version. To read from a literal string, wrap it in a 'StringIO' object.\n",
      "  player=pd.read_html(str(player_table))[0]\n",
      "C:\\Users\\zac15\\AppData\\Local\\Temp\\ipykernel_28176\\785566343.py:9: FutureWarning: Passing literal html to 'read_html' is deprecated and will be removed in a future version. To read from a literal string, wrap it in a 'StringIO' object.\n",
      "  player=pd.read_html(str(player_table))[0]\n",
      "C:\\Users\\zac15\\AppData\\Local\\Temp\\ipykernel_28176\\785566343.py:9: FutureWarning: Passing literal html to 'read_html' is deprecated and will be removed in a future version. To read from a literal string, wrap it in a 'StringIO' object.\n",
      "  player=pd.read_html(str(player_table))[0]\n",
      "C:\\Users\\zac15\\AppData\\Local\\Temp\\ipykernel_28176\\785566343.py:9: FutureWarning: Passing literal html to 'read_html' is deprecated and will be removed in a future version. To read from a literal string, wrap it in a 'StringIO' object.\n",
      "  player=pd.read_html(str(player_table))[0]\n",
      "C:\\Users\\zac15\\AppData\\Local\\Temp\\ipykernel_28176\\785566343.py:9: FutureWarning: Passing literal html to 'read_html' is deprecated and will be removed in a future version. To read from a literal string, wrap it in a 'StringIO' object.\n",
      "  player=pd.read_html(str(player_table))[0]\n",
      "C:\\Users\\zac15\\AppData\\Local\\Temp\\ipykernel_28176\\785566343.py:9: FutureWarning: Passing literal html to 'read_html' is deprecated and will be removed in a future version. To read from a literal string, wrap it in a 'StringIO' object.\n",
      "  player=pd.read_html(str(player_table))[0]\n",
      "C:\\Users\\zac15\\AppData\\Local\\Temp\\ipykernel_28176\\785566343.py:9: FutureWarning: Passing literal html to 'read_html' is deprecated and will be removed in a future version. To read from a literal string, wrap it in a 'StringIO' object.\n",
      "  player=pd.read_html(str(player_table))[0]\n",
      "C:\\Users\\zac15\\AppData\\Local\\Temp\\ipykernel_28176\\785566343.py:9: FutureWarning: Passing literal html to 'read_html' is deprecated and will be removed in a future version. To read from a literal string, wrap it in a 'StringIO' object.\n",
      "  player=pd.read_html(str(player_table))[0]\n"
     ]
    }
   ],
   "source": [
    "dfs=[]\n",
    "for year in years:\n",
    "    with open(\"C:/Users/zac15/OneDrive/Desktop/CSUSM/Final_Project_CS471/player/{}.html\".format(year),encoding='utf-8') as f:\n",
    "        page=f.read()\n",
    "        \n",
    "        soup = BeautifulSoup(page, \"html.parser\")\n",
    "        soup.find('tr',class_=\"thead\").decompose()\n",
    "        player_table=soup.find(id=\"advanced_stats\")\n",
    "        player=pd.read_html(str(player_table))[0]\n",
    "        player[\"Year\"]=year\n",
    "        dfs.append(player)"
   ]
  },
  {
   "cell_type": "code",
   "execution_count": 13,
   "metadata": {},
   "outputs": [],
   "source": [
    "players=pd.concat(dfs)"
   ]
  },
  {
   "cell_type": "code",
   "execution_count": 14,
   "metadata": {},
   "outputs": [],
   "source": [
    "players.to_csv(\"players_adv.csv\")"
   ]
  },
  {
   "cell_type": "code",
   "execution_count": 1,
   "metadata": {},
   "outputs": [],
   "source": [
    "years=list(range(2022,2025))"
   ]
  },
  {
   "cell_type": "code",
   "execution_count": 6,
   "metadata": {},
   "outputs": [],
   "source": [
    "player_stats_url=\"https://www.basketball-reference.com/leagues/NBA_{}_per_game.html\""
   ]
  },
  {
   "cell_type": "code",
   "execution_count": 7,
   "metadata": {},
   "outputs": [],
   "source": [
    "import time\n",
    "\n",
    "for year in years:\n",
    "    url = player_stats_url.format(year)\n",
    "\n",
    "    driver.get(url)\n",
    "    driver.execute_script(\"window.scrollTo(1,10000)\")\n",
    "    time.sleep(2)\n",
    "\n",
    "    html = driver.page_source\n",
    "    with open(\"C:/Users/zac15/OneDrive/Desktop/CSUSM/Final_Project_CS471/player2/{}.html\".format(year),\"w+\", encoding='utf-8') as f:\n",
    "        f.write(html)"
   ]
  },
  {
   "cell_type": "code",
   "execution_count": 8,
   "metadata": {},
   "outputs": [
    {
     "name": "stderr",
     "output_type": "stream",
     "text": [
      "C:\\Users\\zac15\\AppData\\Local\\Temp\\ipykernel_28360\\2526094830.py:9: FutureWarning: Passing literal html to 'read_html' is deprecated and will be removed in a future version. To read from a literal string, wrap it in a 'StringIO' object.\n",
      "  player=pd.read_html(str(player_table))[0]\n",
      "C:\\Users\\zac15\\AppData\\Local\\Temp\\ipykernel_28360\\2526094830.py:9: FutureWarning: Passing literal html to 'read_html' is deprecated and will be removed in a future version. To read from a literal string, wrap it in a 'StringIO' object.\n",
      "  player=pd.read_html(str(player_table))[0]\n",
      "C:\\Users\\zac15\\AppData\\Local\\Temp\\ipykernel_28360\\2526094830.py:9: FutureWarning: Passing literal html to 'read_html' is deprecated and will be removed in a future version. To read from a literal string, wrap it in a 'StringIO' object.\n",
      "  player=pd.read_html(str(player_table))[0]\n"
     ]
    }
   ],
   "source": [
    "dfs=[]\n",
    "for year in years:\n",
    "    with open(\"C:/Users/zac15/OneDrive/Desktop/CSUSM/Final_Project_CS471/player2/{}.html\".format(year),encoding='utf-8') as f:\n",
    "        page=f.read()\n",
    "        \n",
    "        soup = BeautifulSoup(page, \"html.parser\")\n",
    "        soup.find('tr',class_=\"thead\").decompose()\n",
    "        player_table=soup.find(id=\"per_game_stats\")\n",
    "        player=pd.read_html(str(player_table))[0]\n",
    "        player[\"Year\"]=year\n",
    "        dfs.append(player)"
   ]
  },
  {
   "cell_type": "code",
   "execution_count": 9,
   "metadata": {},
   "outputs": [],
   "source": [
    "players=pd.concat(dfs)"
   ]
  },
  {
   "cell_type": "code",
   "execution_count": 10,
   "metadata": {},
   "outputs": [],
   "source": [
    "players.to_csv(\"players_test.csv\")"
   ]
  }
 ],
 "metadata": {
  "kernelspec": {
   "display_name": ".venv",
   "language": "python",
   "name": "python3"
  },
  "language_info": {
   "codemirror_mode": {
    "name": "ipython",
    "version": 3
   },
   "file_extension": ".py",
   "mimetype": "text/x-python",
   "name": "python",
   "nbconvert_exporter": "python",
   "pygments_lexer": "ipython3",
   "version": "3.12.5"
  }
 },
 "nbformat": 4,
 "nbformat_minor": 2
}
